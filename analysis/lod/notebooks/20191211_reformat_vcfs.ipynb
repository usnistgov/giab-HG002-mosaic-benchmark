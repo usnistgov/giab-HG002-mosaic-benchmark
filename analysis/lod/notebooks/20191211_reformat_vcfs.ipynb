{
 "cells": [
  {
   "cell_type": "markdown",
   "metadata": {},
   "source": [
    "# Reformat 12/11/2019 strelka2 and loFreq results"
   ]
  },
  {
   "cell_type": "markdown",
   "metadata": {},
   "source": [
    "Reformatting Strelka and loFreq outputs for use with hap.py.  \n",
    "Brad Chapman at BCBio has python code for more accurate VCF genotype annotations, https://github.com/bcbio/bcbio-nextgen/blob/master/bcbio/variation/strelka2.py"
   ]
  },
  {
   "cell_type": "markdown",
   "metadata": {},
   "source": [
    "## Strelka2"
   ]
  },
  {
   "cell_type": "code",
   "execution_count": 202,
   "metadata": {},
   "outputs": [
    {
     "name": "stderr",
     "output_type": "stream",
     "text": [
      "Writing to /tmp/bcftools-sort.XB0LHU\n",
      "Merging 1 temporary files\n",
      "Cleaning\n",
      "Done\n"
     ]
    }
   ],
   "source": [
    "%%bash\n",
    "## New header line \n",
    "##  Using FOO as work around where GT was causing a segfault with bcftools annotate\n",
    "echo '##FORMAT=<ID=FOO,Number=1,Type=String,Description=\"Genotype\">' > header_line.txt\n",
    "\n",
    "## rename file\n",
    "echo \"TUMOR HG002\" > rename.txt\n",
    "\n",
    "\n",
    "## Refomatting STRELKA VCFs\n",
    "reformat_strelka_somatic () {\n",
    "    VCF=$1\n",
    "    OUTVCF=$2\n",
    "    \n",
    "    ## Get chrom and pos for annotation file\n",
    "    rm annots.bed*\n",
    "    bcftools query -f'%CHROM\\t%POS0\\t%END\\n' $VCF \\\n",
    "        | awk -F $'\\t' 'BEGIN {OFS = FS} { print $1, $2, $3, \"0/1\"}' \\\n",
    "        > annots.bed\n",
    "    bgzip annots.bed\n",
    "    tabix -s1 -b2 -e3 annots.bed.gz\n",
    "\n",
    "    bcftools view -Oz -s TUMOR $VCF \\\n",
    "        | bcftools annotate \\\n",
    "            -a annots.bed.gz \\\n",
    "            -h header_line.txt \\\n",
    "            -c CHROM,FROM,TO,FMT/FOO \\\n",
    "            -s TUMOR \\\n",
    "        | sed 's/FOO/GT/g' \\\n",
    "        | bcftools view -Oz \\\n",
    "        | bcftools reheader -s rename.txt \\\n",
    "        > $OUTVCF\n",
    "    tabix $OUTVCF\n",
    "} \n",
    "\n",
    "\n",
    "reformat_strelka_somatic \\\n",
    "    data/HG2r5_S2_L001_001.markdup.sorted.indels.vcf.gz \\\n",
    "    processed/HG2r5_20191211_strelka_reformatted.indels.vcf.gz\n",
    "\n",
    "reformat_strelka_somatic \\\n",
    "    data/HG2r5_S2_L001_001.markdup.sorted.snvs.vcf.gz \\\n",
    "    processed/HG2r5_20191211_strelka_reformatted.snvs.vcf.gz\n",
    "\n",
    "## Combining snv and indel vcfs\n",
    "bcftools concat -a \\\n",
    "    processed/HG2r5_20191211_strelka_reformatted.indels.vcf.gz \\\n",
    "    processed/HG2r5_20191211_strelka_reformatted.snvs.vcf.gz \\\n",
    "    | bcftools sort -Oz > processed/HG2r5_20191211_strelka.vcf.gz\n",
    "tabix processed/HG2r5_20191211_strelka.vcf.gz\n",
    "\n",
    "## File clean-up\n",
    "rm processed/HG2r5_20191211_strelka_reformatted.indels.vcf.gz*\n",
    "rm processed/HG2r5_20191211_strelka_reformatted.snvs.vcf.gz*\n",
    "rm rename.txt\n",
    "rm annots*\n",
    "rm header_line.txt"
   ]
  },
  {
   "cell_type": "markdown",
   "metadata": {},
   "source": [
    "Verifying format change"
   ]
  },
  {
   "cell_type": "code",
   "execution_count": 203,
   "metadata": {},
   "outputs": [
    {
     "name": "stdout",
     "output_type": "stream",
     "text": [
      "##FORMAT=<ID=DP,Number=1,Type=Integer,Description=\"Read depth for tier1\">\n",
      "##FORMAT=<ID=DP2,Number=1,Type=Integer,Description=\"Read depth for tier2\">\n",
      "##FORMAT=<ID=TAR,Number=2,Type=Integer,Description=\"Reads strongly supporting alternate allele for tiers 1,2\">\n",
      "##FORMAT=<ID=TIR,Number=2,Type=Integer,Description=\"Reads strongly supporting indel allele for tiers 1,2\">\n",
      "##FORMAT=<ID=TOR,Number=2,Type=Integer,Description=\"Other reads (weak support or insufficient indel breakpoint overlap) for tiers 1,2\">\n",
      "##FORMAT=<ID=DP50,Number=1,Type=Float,Description=\"Average tier1 read depth within 50 bases\">\n",
      "##FORMAT=<ID=FDP50,Number=1,Type=Float,Description=\"Average tier1 number of basecalls filtered from original read depth within 50 bases\">\n",
      "##FORMAT=<ID=SUBDP50,Number=1,Type=Float,Description=\"Average number of reads below tier1 mapping quality threshold aligned across sites within 50 bases\">\n",
      "##FORMAT=<ID=BCN50,Number=1,Type=Float,Description=\"Fraction of filtered reads within 50 bases of the indel.\">\n",
      "##FORMAT=<ID=GT,Number=1,Type=String,Description=\"Genotype\">\n",
      "##FORMAT=<ID=FDP,Number=1,Type=Integer,Description=\"Number of basecalls filtered from original read depth for tier1\">\n",
      "##FORMAT=<ID=SDP,Number=1,Type=Integer,Description=\"Number of reads with deletions spanning this site at tier1\">\n",
      "##FORMAT=<ID=SUBDP,Number=1,Type=Integer,Description=\"Number of reads below tier1 mapping quality threshold aligned across this site\">\n",
      "##FORMAT=<ID=AU,Number=2,Type=Integer,Description=\"Number of 'A' alleles used in tiers 1,2\">\n",
      "##FORMAT=<ID=CU,Number=2,Type=Integer,Description=\"Number of 'C' alleles used in tiers 1,2\">\n",
      "##FORMAT=<ID=GU,Number=2,Type=Integer,Description=\"Number of 'G' alleles used in tiers 1,2\">\n",
      "##FORMAT=<ID=TU,Number=2,Type=Integer,Description=\"Number of 'T' alleles used in tiers 1,2\">\n",
      "#CHROM\tPOS\tID\tREF\tALT\tQUAL\tFILTER\tINFO\tFORMAT\tHG002\n",
      "1\t850218\t.\tT\tA\t.\tLowEVS\tSOMATIC;QSS=1;TQSS=1;NT=ref;QSS_NT=1;TQSS_NT=1;SGT=TT->TT;DP=3;MQ=60;MQ0=0;ReadPosRankSum=0;SNVSB=0;SomaticEVS=0.99\tDP:FDP:SDP:SUBDP:AU:CU:GU:TU:GT\t2:0:0:0:2,2:0,0:0,0:0,0:0/1\n",
      "1\t875030\t.\tA\tT\t.\tLowEVS\tSOMATIC;QSS=1;TQSS=1;NT=ref;QSS_NT=1;TQSS_NT=1;SGT=AA->AA;DP=6;MQ=60;MQ0=0;ReadPosRankSum=-1.55;SNVSB=0;SomaticEVS=0.4\tDP:FDP:SDP:SUBDP:AU:CU:GU:TU:GT\t4:0:0:0:2,2:0,0:0,0:2,2:0/1\n",
      "1\t929182\t.\tC\tA\t.\tLowEVS;LowDepth\tSOMATIC;QSS=1;TQSS=1;NT=ref;QSS_NT=1;TQSS_NT=1;SGT=CC->CC;DP=2;MQ=60;MQ0=0;ReadPosRankSum=0;SNVSB=0;SomaticEVS=0.71\tDP:FDP:SDP:SUBDP:AU:CU:GU:TU:GT\t1:0:0:0:1,1:0,0:0,0:0,0:0/1\n",
      "1\t1058485\t.\tG\tA\t.\tLowEVS;LowDepth\tSOMATIC;QSS=1;TQSS=1;NT=ref;QSS_NT=1;TQSS_NT=1;SGT=GG->GG;DP=2;MQ=60;MQ0=0;ReadPosRankSum=0;SNVSB=0;SomaticEVS=0.71\tDP:FDP:SDP:SUBDP:AU:CU:GU:TU:GT\t1:0:0:0:1,1:0,0:0,0:0,0:0/1\n",
      "1\t1142893\t.\tG\tA\t.\tLowEVS;LowDepth\tSOMATIC;QSS=1;TQSS=1;NT=ref;QSS_NT=1;TQSS_NT=1;SGT=GG->GG;DP=2;MQ=60;MQ0=0;ReadPosRankSum=0;SNVSB=0;SomaticEVS=0.71\tDP:FDP:SDP:SUBDP:AU:CU:GU:TU:GT\t1:0:0:0:1,1:0,0:0,0:0,0:0/1\n"
     ]
    }
   ],
   "source": [
    "%%bash\n",
    "bcftools view -h processed/HG2r5_20191211_strelka.vcf.gz \\\n",
    "    | zgrep ^##FORMAT=\n",
    "bcftools view -h processed/HG2r5_20191211_strelka.vcf.gz \\\n",
    "    | zgrep ^#CHROM\n",
    "bcftools view -H processed/HG2r5_20191211_strelka.vcf.gz |\n",
    "    head -n 5"
   ]
  },
  {
   "cell_type": "markdown",
   "metadata": {},
   "source": [
    "## loFreq"
   ]
  },
  {
   "cell_type": "markdown",
   "metadata": {},
   "source": [
    "Checking loFreq VCF format"
   ]
  },
  {
   "cell_type": "code",
   "execution_count": 207,
   "metadata": {},
   "outputs": [
    {
     "name": "stdout",
     "output_type": "stream",
     "text": [
      "##fileformat=VCFv4.0\n",
      "##FILTER=<ID=PASS,Description=\"All filters passed\">\n",
      "##fileDate=20191211\n",
      "##source=lofreq call -d 101000 -f ./genome/hs37d5.fa --verbose --no-default-filter -b 1 -a 0.010000 -C 7 -s -S prefixnormal_stringent.snvs.vcf.gz,prefixnormal_stringent.indels.vcf.gz -l /home/dnanexus/in/target_bed/No_chr_SortBed_on_removed_ex_trusight_inh_dis_manifest_a.bed --no-default-filter -r 1:1-124625310 -o /tmp/lofreq2_call_parallelhL9J0c/0.vcf.gz /home/dnanexus/in/tumor_bam/HG2r5_S2_L001_001.markdup.sorted.bam \n",
      "##reference=./genome/hs37d5.fa\n",
      "##INFO=<ID=DP,Number=1,Type=Integer,Description=\"Raw Depth\">\n",
      "##INFO=<ID=AF,Number=1,Type=Float,Description=\"Allele Frequency\">\n",
      "##INFO=<ID=SB,Number=1,Type=Integer,Description=\"Phred-scaled strand bias at this position\">\n",
      "##INFO=<ID=DP4,Number=4,Type=Integer,Description=\"Counts for ref-forward bases, ref-reverse, alt-forward and alt-reverse bases\">\n",
      "##INFO=<ID=INDEL,Number=0,Type=Flag,Description=\"Indicates that the variant is an INDEL.\">\n",
      "##INFO=<ID=CONSVAR,Number=0,Type=Flag,Description=\"Indicates that the variant is a consensus variant (as opposed to a low frequency variant).\">\n",
      "##INFO=<ID=HRUN,Number=1,Type=Integer,Description=\"Homopolymer length to the right of report indel position\">\n",
      "##FILTER=<ID=min_dp_7,Description=\"Minimum Coverage 7\">\n",
      "##FILTER=<ID=max_dp_100000,Description=\"Maximum Coverage 100000\">\n",
      "##FILTER=<ID=sb_fdr,Description=\"Strand-Bias Multiple Testing Correction: fdr corr. pvalue > 0.001000\">\n",
      "##FILTER=<ID=snvqual_bonf,Description=\"SNV Quality Multiple Testing Correction: bonf corr. pvalue < 1.000000\">\n",
      "##INFO=<ID=UNIQ,Number=0,Type=Flag,Description=\"Unique, i.e. not detectable in paired sample\">\n",
      "##INFO=<ID=UQ,Number=1,Type=Integer,Description=\"Phred-scaled uniq score at this position\">\n",
      "##FILTER=<ID=uq_fdr,Description=\"Uniq Multiple Testing Correction: fdr corr. pvalue < 0.001000\">\n",
      "##contig=<ID=1>\n",
      "##contig=<ID=2>\n",
      "##contig=<ID=3>\n",
      "##contig=<ID=4>\n",
      "##contig=<ID=5>\n",
      "##contig=<ID=6>\n",
      "##contig=<ID=7>\n",
      "##contig=<ID=8>\n",
      "##contig=<ID=9>\n",
      "##contig=<ID=10>\n",
      "##contig=<ID=11>\n",
      "##contig=<ID=12>\n",
      "##contig=<ID=13>\n",
      "##contig=<ID=15>\n",
      "##contig=<ID=16>\n",
      "##contig=<ID=17>\n",
      "##contig=<ID=18>\n",
      "##contig=<ID=19>\n",
      "##contig=<ID=20>\n",
      "##contig=<ID=21>\n",
      "##contig=<ID=22>\n",
      "##contig=<ID=X>\n",
      "##bcftools_viewVersion=1.9+htslib-1.9\n",
      "##bcftools_viewCommand=view -h data/HG2r5_S2_L001_001.markdup.sorted.somatic-snvs.vcf.gz; Date=Fri Dec 13 20:51:55 2019\n",
      "#CHROM\tPOS\tID\tREF\tALT\tQUAL\tFILTER\tINFO\n",
      "1\t2337032\t.\tC\tT\t871\tPASS\tDP=84;AF=0.428571;SB=0;DP4=21,27,17,19;SOMATIC;UQ=228\n",
      "1\t5937168\t.\tG\tA\t818\tPASS\tDP=96;AF=0.447917;SB=0;DP4=32,20,26,17;SOMATIC;UQ=334\n",
      "1\t6579653\t.\tG\tC\t1112\tPASS\tDP=96;AF=0.5;SB=2;DP4=23,25,27,21;SOMATIC;UQ=301\n",
      "1\t22180779\t.\tC\tT\t1002\tPASS\tDP=105;AF=0.419048;SB=0;DP4=33,27,24,20;SOMATIC;UQ=403\n",
      "1\t40538855\t.\tA\tG\t281\tPASS\tDP=20;AF=0.65;SB=0;DP4=6,1,11,2;SOMATIC;UQ=66\n"
     ]
    },
    {
     "name": "stderr",
     "output_type": "stream",
     "text": [
      "[W::vcf_parse] INFO 'SOMATIC' is not defined in the header, assuming Type=String\n"
     ]
    }
   ],
   "source": [
    "%%bash\n",
    "VCF=data/HG2r5_S2_L001_001.markdup.sorted.somatic-snvs.vcf.gz\n",
    "bcftools view -h $VCF \n",
    "bcftools view -H $VCF |\n",
    "    head -n 5"
   ]
  },
  {
   "cell_type": "code",
   "execution_count": 248,
   "metadata": {},
   "outputs": [],
   "source": [
    "%%bash \n",
    "reformat_lofreq () {\n",
    "    VCF=$1\n",
    "    OUTVCF=$2\n",
    "    \n",
    "    # Extract header\n",
    "    zgrep \"^##\" $VCF > $OUTVCF\n",
    "    # adding FORMAT GT\n",
    "    echo '##FORMAT=<ID=GT,Number=1,Type=String,Description=\"Genotype\">' >> $OUTVCF\n",
    "    # Adding chrom\n",
    "    zgrep \"^#CHROM\" $VCF |\n",
    "        awk -F $'\\t' 'BEGIN {OFS = FS} { print $1, $2, $3, $4, $5, $6, $7, $8, \"FORMAT\", \"HG002\"}' \\\n",
    "       >> $OUTVCF\n",
    "    \n",
    "    ## Adding FORMAT and sample columns\n",
    "    zgrep -v \"^#\" $VCF | awk -F $'\\t' 'BEGIN {OFS = FS} { print $1, $2, $3, $4, $5, $6, $7, $8, \"GT\", \"0/1\"}' \\\n",
    "        >> $OUTVCF\n",
    "    \n",
    "    bgzip $OUTVCF\n",
    "    tabix $OUTVCF.gz\n",
    "} \n",
    "\n",
    "reformat_lofreq \\\n",
    "    data/HG2r5_S2_L001_001.markdup.sorted.somatic-snvs.vcf.gz \\\n",
    "    processed/HG2r5_20191211_loFreq.vcf"
   ]
  },
  {
   "cell_type": "code",
   "execution_count": 249,
   "metadata": {},
   "outputs": [
    {
     "name": "stdout",
     "output_type": "stream",
     "text": [
      "##fileformat=VCFv4.0\n",
      "##FILTER=<ID=PASS,Description=\"All filters passed\">\n",
      "##fileDate=20191211\n",
      "##source=lofreq call -d 101000 -f ./genome/hs37d5.fa --verbose --no-default-filter -b 1 -a 0.010000 -C 7 -s -S prefixnormal_stringent.snvs.vcf.gz,prefixnormal_stringent.indels.vcf.gz -l /home/dnanexus/in/target_bed/No_chr_SortBed_on_removed_ex_trusight_inh_dis_manifest_a.bed --no-default-filter -r 1:1-124625310 -o /tmp/lofreq2_call_parallelhL9J0c/0.vcf.gz /home/dnanexus/in/tumor_bam/HG2r5_S2_L001_001.markdup.sorted.bam \n",
      "##reference=./genome/hs37d5.fa\n",
      "##INFO=<ID=DP,Number=1,Type=Integer,Description=\"Raw Depth\">\n",
      "##INFO=<ID=AF,Number=1,Type=Float,Description=\"Allele Frequency\">\n",
      "##INFO=<ID=SB,Number=1,Type=Integer,Description=\"Phred-scaled strand bias at this position\">\n",
      "##INFO=<ID=DP4,Number=4,Type=Integer,Description=\"Counts for ref-forward bases, ref-reverse, alt-forward and alt-reverse bases\">\n",
      "##INFO=<ID=INDEL,Number=0,Type=Flag,Description=\"Indicates that the variant is an INDEL.\">\n",
      "##INFO=<ID=CONSVAR,Number=0,Type=Flag,Description=\"Indicates that the variant is a consensus variant (as opposed to a low frequency variant).\">\n",
      "##INFO=<ID=HRUN,Number=1,Type=Integer,Description=\"Homopolymer length to the right of report indel position\">\n",
      "##FILTER=<ID=min_dp_7,Description=\"Minimum Coverage 7\">\n",
      "##FILTER=<ID=max_dp_100000,Description=\"Maximum Coverage 100000\">\n",
      "##FILTER=<ID=sb_fdr,Description=\"Strand-Bias Multiple Testing Correction: fdr corr. pvalue > 0.001000\">\n",
      "##FILTER=<ID=snvqual_bonf,Description=\"SNV Quality Multiple Testing Correction: bonf corr. pvalue < 1.000000\">\n",
      "##INFO=<ID=UNIQ,Number=0,Type=Flag,Description=\"Unique, i.e. not detectable in paired sample\">\n",
      "##INFO=<ID=UQ,Number=1,Type=Integer,Description=\"Phred-scaled uniq score at this position\">\n",
      "##FILTER=<ID=uq_fdr,Description=\"Uniq Multiple Testing Correction: fdr corr. pvalue < 0.001000\">\n",
      "##FORMAT=<ID=GT,Number=1,Type=String,Description=\"Genotype\">\n",
      "##contig=<ID=1>\n",
      "##contig=<ID=2>\n",
      "##contig=<ID=3>\n",
      "##contig=<ID=4>\n",
      "##contig=<ID=5>\n",
      "##contig=<ID=6>\n",
      "##contig=<ID=7>\n",
      "##contig=<ID=8>\n",
      "##contig=<ID=9>\n",
      "##contig=<ID=10>\n",
      "##contig=<ID=11>\n",
      "##contig=<ID=12>\n",
      "##contig=<ID=13>\n",
      "##contig=<ID=15>\n",
      "##contig=<ID=16>\n",
      "##contig=<ID=17>\n",
      "##contig=<ID=18>\n",
      "##contig=<ID=19>\n",
      "##contig=<ID=20>\n",
      "##contig=<ID=21>\n",
      "##contig=<ID=22>\n",
      "##contig=<ID=X>\n",
      "##bcftools_viewVersion=1.9+htslib-1.9\n",
      "##bcftools_viewCommand=view -h processed/HG2r5_20191211_loFreq.vcf.gz; Date=Fri Dec 13 21:19:12 2019\n",
      "#CHROM\tPOS\tID\tREF\tALT\tQUAL\tFILTER\tINFO\tFORMAT\tHG002\n",
      "1\t2337032\t.\tC\tT\t871\tPASS\tDP=84;AF=0.428571;SB=0;DP4=21,27,17,19;SOMATIC;UQ=228\tGT\t0/1\n",
      "1\t5937168\t.\tG\tA\t818\tPASS\tDP=96;AF=0.447917;SB=0;DP4=32,20,26,17;SOMATIC;UQ=334\tGT\t0/1\n",
      "1\t6579653\t.\tG\tC\t1112\tPASS\tDP=96;AF=0.5;SB=2;DP4=23,25,27,21;SOMATIC;UQ=301\tGT\t0/1\n",
      "1\t22180779\t.\tC\tT\t1002\tPASS\tDP=105;AF=0.419048;SB=0;DP4=33,27,24,20;SOMATIC;UQ=403\tGT\t0/1\n",
      "1\t40538855\t.\tA\tG\t281\tPASS\tDP=20;AF=0.65;SB=0;DP4=6,1,11,2;SOMATIC;UQ=66\tGT\t0/1\n"
     ]
    },
    {
     "name": "stderr",
     "output_type": "stream",
     "text": [
      "[W::vcf_parse] INFO 'SOMATIC' is not defined in the header, assuming Type=String\n"
     ]
    }
   ],
   "source": [
    "%%bash\n",
    "VCF=processed/HG2r5_20191211_loFreq.vcf.gz\n",
    "bcftools view -h $VCF \n",
    "bcftools view -H $VCF |\n",
    "    head -n 5"
   ]
  },
  {
   "cell_type": "code",
   "execution_count": 250,
   "metadata": {},
   "outputs": [
    {
     "name": "stdout",
     "output_type": "stream",
     "text": [
      "[NbConvertApp] Converting notebook 20191211_reformat_vcfs.ipynb to script\n",
      "[NbConvertApp] Writing 3822 bytes to 20191211_reformat_vcfs.py\n"
     ]
    }
   ],
   "source": [
    "!jupyter nbconvert --to script 20191211_reformat_vcfs.ipynb"
   ]
  },
  {
   "cell_type": "code",
   "execution_count": null,
   "metadata": {},
   "outputs": [],
   "source": []
  }
 ],
 "metadata": {
  "kernelspec": {
   "display_name": "Python 3",
   "language": "python",
   "name": "python3"
  },
  "language_info": {
   "codemirror_mode": {
    "name": "ipython",
    "version": 3
   },
   "file_extension": ".py",
   "mimetype": "text/x-python",
   "name": "python",
   "nbconvert_exporter": "python",
   "pygments_lexer": "ipython3",
   "version": "3.7.4"
  }
 },
 "nbformat": 4,
 "nbformat_minor": 4
}
