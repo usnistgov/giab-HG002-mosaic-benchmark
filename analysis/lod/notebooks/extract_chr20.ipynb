{
 "cells": [
  {
   "cell_type": "markdown",
   "metadata": {},
   "source": [
    "## Extracting Chrom 20 from 300X Ill"
   ]
  },
  {
   "cell_type": "code",
   "execution_count": 1,
   "metadata": {},
   "outputs": [
    {
     "name": "stderr",
     "output_type": "stream",
     "text": [
      "[W::hts_idx_load2] The index file is older than the data file: /Volumes/giab/data/alignment/AshkenazimTrio/Illumina/NHGRI_Illumina300X_AJtrio_novoalign_bams/HG002.hs37d5.300x.bam.bai\n"
     ]
    }
   ],
   "source": [
    "%%bash \n",
    "samtools view -bh /Volumes/giab/data/alignment/AshkenazimTrio/Illumina/NHGRI_Illumina300X_AJtrio_novoalign_bams/HG002.hs37d5.300x.bam 20 > HG002.hs37d5.300x.chr20.bam"
   ]
  },
  {
   "cell_type": "code",
   "execution_count": 2,
   "metadata": {},
   "outputs": [],
   "source": [
    "%%bash\n",
    "samtools index HG002.hs37d5.300x.chr20.bam"
   ]
  },
  {
   "cell_type": "code",
   "execution_count": 3,
   "metadata": {},
   "outputs": [
    {
     "name": "stderr",
     "output_type": "stream",
     "text": [
      "[W::hts_idx_load2] The index file is older than the data file: /Volumes/giab/data/alignment/AshkenazimTrio/Illumina/NHGRI_Illumina300X_AJtrio_novoalign_bams/HG003.hs37d5.300x.bam.bai\n"
     ]
    }
   ],
   "source": [
    "%%bash \n",
    "samtools view -bh /Volumes/giab/data/alignment/AshkenazimTrio/Illumina/NHGRI_Illumina300X_AJtrio_novoalign_bams/HG003.hs37d5.300x.bam 20 > HG003.hs37d5.300x.chr20.bam\n",
    "samtools index HG003.hs37d5.300x.chr20.bam"
   ]
  },
  {
   "cell_type": "code",
   "execution_count": null,
   "metadata": {},
   "outputs": [],
   "source": []
  }
 ],
 "metadata": {
  "kernelspec": {
   "display_name": "Python 3",
   "language": "python",
   "name": "python3"
  },
  "language_info": {
   "codemirror_mode": {
    "name": "ipython",
    "version": 3
   },
   "file_extension": ".py",
   "mimetype": "text/x-python",
   "name": "python",
   "nbconvert_exporter": "python",
   "pygments_lexer": "ipython3",
   "version": "3.7.4"
  }
 },
 "nbformat": 4,
 "nbformat_minor": 4
}
